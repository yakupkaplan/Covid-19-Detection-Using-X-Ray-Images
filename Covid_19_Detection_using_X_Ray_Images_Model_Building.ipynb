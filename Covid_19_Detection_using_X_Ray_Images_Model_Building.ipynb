{
  "nbformat": 4,
  "nbformat_minor": 0,
  "metadata": {
    "colab": {
      "name": "Covid-19 Detection using X-Ray Images - Model Building.ipynb",
      "provenance": [],
      "collapsed_sections": [],
      "toc_visible": true,
      "authorship_tag": "ABX9TyNsDqP4crPFu4zTdVmUHDOH",
      "include_colab_link": true
    },
    "kernelspec": {
      "name": "python3",
      "display_name": "Python 3"
    },
    "accelerator": "GPU"
  },
  "cells": [
    {
      "cell_type": "markdown",
      "metadata": {
        "id": "view-in-github",
        "colab_type": "text"
      },
      "source": [
        "<a href=\"https://colab.research.google.com/github/yakupkaplan/Covid-19-Detection-Using-X-Ray-Images/blob/main/Covid_19_Detection_using_X_Ray_Images_Model_Building.ipynb\" target=\"_parent\"><img src=\"https://colab.research.google.com/assets/colab-badge.svg\" alt=\"Open In Colab\"/></a>"
      ]
    },
    {
      "cell_type": "markdown",
      "metadata": {
        "id": "sGK5bla2_EeX"
      },
      "source": [
        "# Covid-19 Detection using X-Ray Images"
      ]
    },
    {
      "cell_type": "markdown",
      "metadata": {
        "id": "EKdeeQoI_U2o"
      },
      "source": [
        "In this notebook we try to detect COVID-19 by using x-ray images.\r\n",
        "\r\n",
        "__Datasets to be used:__ \r\n",
        "1. [Covid Chest X Ray Dataset](https://github.com/ieee8023/covid-chestxray-dataset) -> used for covid-19 positive images\r\n",
        "2. [Pneumonia dataset by Praveen](https://www.kaggle.com/praveengovi/coronahack-chest-xraydataset) -> pneumonia negative images used for covid-19 negative images\r\n",
        "\r\n",
        "-> By using these datasets 500 Covid-19 positive images and 1600 Covid-19 negative images are created.\r\n",
        "\r\n",
        "__References:__\r\n",
        "1. https://www.youtube.com/watch?v=ol0OYJoBC4A&list=PLeR1DH-2kjIr_IZZIC64Mmf5wKEdekRZU&index=11"
      ]
    },
    {
      "cell_type": "code",
      "metadata": {
        "colab": {
          "base_uri": "https://localhost:8080/"
        },
        "id": "wZMtx-tEDRfS",
        "outputId": "4d91d430-4577-498a-e9b6-79d710657cda"
      },
      "source": [
        "# Google Colab Identification\r\n",
        "from google.colab import drive\r\n",
        "drive.mount('/content/drive')"
      ],
      "execution_count": null,
      "outputs": [
        {
          "output_type": "stream",
          "text": [
            "Mounted at /content/drive\n"
          ],
          "name": "stdout"
        }
      ]
    },
    {
      "cell_type": "code",
      "metadata": {
        "colab": {
          "base_uri": "https://localhost:8080/",
          "height": 36
        },
        "id": "zx9fbivzBuaL",
        "outputId": "57026408-4321-4082-f02c-82b651284922"
      },
      "source": [
        "# Changing working directory\r\n",
        "import os \r\n",
        "root = '/content/drive/MyDrive/Colab Notebooks/Covid-19 Detection Using X-Ray Images'\r\n",
        "os.chdir(root)\r\n",
        "os.getcwd()"
      ],
      "execution_count": null,
      "outputs": [
        {
          "output_type": "execute_result",
          "data": {
            "application/vnd.google.colaboratory.intrinsic+json": {
              "type": "string"
            },
            "text/plain": [
              "'/content/drive/MyDrive/Colab Notebooks/Covid-19 Detection Using X-Ray Images'"
            ]
          },
          "metadata": {
            "tags": []
          },
          "execution_count": 19
        }
      ]
    },
    {
      "cell_type": "code",
      "metadata": {
        "id": "l0mEPWRgTSEb"
      },
      "source": [
        "# Import dependencies\r\n",
        "import numpy as np\r\n",
        "import pandas as pd\r\n",
        "import matplotlib.pyplot as plt\r\n",
        "import seaborn as sns\r\n",
        "\r\n",
        "from sklearn.model_selection import train_test_split\r\n",
        "\r\n",
        "from keras.models import Sequential,Model\r\n",
        "from keras.layers import Dense, Dropout, Flatten\r\n",
        "from keras.layers import Conv2D,Activation,MaxPooling2D\r\n",
        "from keras.utils import normalize\r\n",
        "from keras.layers import Concatenate\r\n",
        "from keras import Input\r\n",
        "from keras.callbacks import ModelCheckpoint"
      ],
      "execution_count": null,
      "outputs": []
    },
    {
      "cell_type": "code",
      "metadata": {
        "id": "ynjRRek0TSHL"
      },
      "source": [
        "# Import data and target that we saved earlier\r\n",
        "data = np.load('data.npy')\r\n",
        "target = np.load('target.npy')"
      ],
      "execution_count": null,
      "outputs": []
    },
    {
      "cell_type": "code",
      "metadata": {
        "id": "vtM0TeFaTSKF"
      },
      "source": [
        "# Define input features\r\n",
        "input_shape = data.shape[1:] #50,50,1\r\n",
        "inputs = Input(shape = input_shape)\r\n",
        "\r\n",
        "# Create/Design the model architecture\r\n",
        "convs = []\r\n",
        "\r\n",
        "parrallel_kernels = [3,5,7] # We will use parallel kernels\r\n",
        "\r\n",
        "for k in range(len(parrallel_kernels)):\r\n",
        "\r\n",
        "    conv = Conv2D(128, parrallel_kernels[k], padding = 'same', activation = 'relu', input_shape = input_shape, strides = 1)(inputs)\r\n",
        "    convs.append(conv)\r\n",
        "\r\n",
        "outputs = Concatenate()(convs)\r\n",
        "conv_model = Model(inputs=inputs, outputs=outputs)\r\n",
        "\r\n",
        "model = Sequential()\r\n",
        "model.add(conv_model)\r\n",
        "\r\n",
        "model.add(Conv2D(64,(3,3)))\r\n",
        "model.add(Activation('relu'))\r\n",
        "model.add(MaxPooling2D(pool_size=(2,2)))\r\n",
        "\r\n",
        "model.add(Conv2D(32,(3,3)))\r\n",
        "model.add(Activation('relu'))\r\n",
        "model.add(MaxPooling2D(pool_size=(2,2)))\r\n",
        "\r\n",
        "model.add(Flatten())\r\n",
        "model.add(Dropout(0.5))\r\n",
        "\r\n",
        "model.add(Dense(128,activation='relu'))\r\n",
        "model.add(Dropout(0.5))\r\n",
        "\r\n",
        "model.add(Dense(64,activation='relu'))\r\n",
        "model.add(Dropout(0.5))\r\n",
        "\r\n",
        "model.add(Dense(2,input_dim=128,activation='softmax'))"
      ],
      "execution_count": null,
      "outputs": []
    },
    {
      "cell_type": "code",
      "metadata": {
        "id": "toVpckjbVltE"
      },
      "source": [
        "# Compile the model\r\n",
        "model.compile(loss='categorical_crossentropy',optimizer='adam',metrics=['accuracy'])"
      ],
      "execution_count": null,
      "outputs": []
    },
    {
      "cell_type": "code",
      "metadata": {
        "colab": {
          "base_uri": "https://localhost:8080/"
        },
        "id": "65kJdVwdVc_C",
        "outputId": "e8bf3523-0248-40e9-b40c-be8716ce0930"
      },
      "source": [
        "# Let's take a look at the model architecture\r\n",
        "model.summary()"
      ],
      "execution_count": null,
      "outputs": [
        {
          "output_type": "stream",
          "text": [
            "Model: \"sequential_1\"\n",
            "_________________________________________________________________\n",
            "Layer (type)                 Output Shape              Param #   \n",
            "=================================================================\n",
            "model_1 (Functional)         (None, 100, 100, 384)     11008     \n",
            "_________________________________________________________________\n",
            "conv2d_8 (Conv2D)            (None, 98, 98, 64)        221248    \n",
            "_________________________________________________________________\n",
            "activation_2 (Activation)    (None, 98, 98, 64)        0         \n",
            "_________________________________________________________________\n",
            "max_pooling2d_2 (MaxPooling2 (None, 49, 49, 64)        0         \n",
            "_________________________________________________________________\n",
            "conv2d_9 (Conv2D)            (None, 47, 47, 32)        18464     \n",
            "_________________________________________________________________\n",
            "activation_3 (Activation)    (None, 47, 47, 32)        0         \n",
            "_________________________________________________________________\n",
            "max_pooling2d_3 (MaxPooling2 (None, 23, 23, 32)        0         \n",
            "_________________________________________________________________\n",
            "flatten_1 (Flatten)          (None, 16928)             0         \n",
            "_________________________________________________________________\n",
            "dropout_3 (Dropout)          (None, 16928)             0         \n",
            "_________________________________________________________________\n",
            "dense_3 (Dense)              (None, 128)               2166912   \n",
            "_________________________________________________________________\n",
            "dropout_4 (Dropout)          (None, 128)               0         \n",
            "_________________________________________________________________\n",
            "dense_4 (Dense)              (None, 64)                8256      \n",
            "_________________________________________________________________\n",
            "dropout_5 (Dropout)          (None, 64)                0         \n",
            "_________________________________________________________________\n",
            "dense_5 (Dense)              (None, 2)                 130       \n",
            "=================================================================\n",
            "Total params: 2,426,018\n",
            "Trainable params: 2,426,018\n",
            "Non-trainable params: 0\n",
            "_________________________________________________________________\n"
          ],
          "name": "stdout"
        }
      ]
    },
    {
      "cell_type": "code",
      "metadata": {
        "id": "YjCi66fxVc7d"
      },
      "source": [
        "# Split the dataset into train and test sets -> 10% data will be used for testing\r\n",
        "train_data, test_data, train_target, test_target = train_test_split(data, target, test_size = 0.1)"
      ],
      "execution_count": null,
      "outputs": []
    },
    {
      "cell_type": "code",
      "metadata": {
        "colab": {
          "base_uri": "https://localhost:8080/"
        },
        "id": "xtcKyTrfYgEV",
        "outputId": "6b3fb6f1-8d18-43d5-8e8b-b3087cd802b3"
      },
      "source": [
        "# Create a model checkpoint - The models will be saved that surpase the model before\r\n",
        "checkpoint = ModelCheckpoint('model-{epoch:03d}.model', monitor='val_loss', verbose=0, save_best_only=True, mode='auto')\r\n",
        "\r\n",
        "# Train the model - 10% as the validation data\r\n",
        "history = model.fit(train_data, train_target, epochs=20, callbacks=[checkpoint], validation_split=0.1)"
      ],
      "execution_count": null,
      "outputs": [
        {
          "output_type": "stream",
          "text": [
            "Epoch 1/20\n",
            "50/50 [==============================] - 7s 131ms/step - loss: 0.5588 - accuracy: 0.7065 - val_loss: 0.1377 - val_accuracy: 0.9548\n",
            "INFO:tensorflow:Assets written to: model-001.model/assets\n",
            "Epoch 2/20\n",
            "50/50 [==============================] - 6s 128ms/step - loss: 0.1696 - accuracy: 0.9494 - val_loss: 0.0442 - val_accuracy: 0.9944\n",
            "INFO:tensorflow:Assets written to: model-002.model/assets\n",
            "Epoch 3/20\n",
            "50/50 [==============================] - 6s 128ms/step - loss: 0.1089 - accuracy: 0.9687 - val_loss: 0.0535 - val_accuracy: 0.9887\n",
            "Epoch 4/20\n",
            "50/50 [==============================] - 6s 129ms/step - loss: 0.0793 - accuracy: 0.9734 - val_loss: 0.0238 - val_accuracy: 0.9887\n",
            "INFO:tensorflow:Assets written to: model-004.model/assets\n",
            "Epoch 5/20\n",
            "50/50 [==============================] - 6s 130ms/step - loss: 0.0661 - accuracy: 0.9741 - val_loss: 0.0434 - val_accuracy: 0.9831\n",
            "Epoch 6/20\n",
            "50/50 [==============================] - 6s 128ms/step - loss: 0.1130 - accuracy: 0.9585 - val_loss: 0.0188 - val_accuracy: 0.9944\n",
            "INFO:tensorflow:Assets written to: model-006.model/assets\n",
            "Epoch 7/20\n",
            "50/50 [==============================] - 6s 127ms/step - loss: 0.0481 - accuracy: 0.9851 - val_loss: 0.0570 - val_accuracy: 0.9887\n",
            "Epoch 8/20\n",
            "50/50 [==============================] - 6s 128ms/step - loss: 0.0382 - accuracy: 0.9889 - val_loss: 0.0239 - val_accuracy: 0.9831\n",
            "Epoch 9/20\n",
            "50/50 [==============================] - 6s 127ms/step - loss: 0.0428 - accuracy: 0.9892 - val_loss: 0.0973 - val_accuracy: 0.9774\n",
            "Epoch 10/20\n",
            "50/50 [==============================] - 6s 127ms/step - loss: 0.0838 - accuracy: 0.9733 - val_loss: 0.0437 - val_accuracy: 0.9887\n",
            "Epoch 11/20\n",
            "50/50 [==============================] - 6s 126ms/step - loss: 0.0377 - accuracy: 0.9875 - val_loss: 0.0646 - val_accuracy: 0.9944\n",
            "Epoch 12/20\n",
            "50/50 [==============================] - 6s 126ms/step - loss: 0.0549 - accuracy: 0.9849 - val_loss: 0.0747 - val_accuracy: 0.9887\n",
            "Epoch 13/20\n",
            "50/50 [==============================] - 6s 126ms/step - loss: 0.0511 - accuracy: 0.9863 - val_loss: 0.0482 - val_accuracy: 0.9944\n",
            "Epoch 14/20\n",
            "50/50 [==============================] - 6s 127ms/step - loss: 0.0187 - accuracy: 0.9941 - val_loss: 0.0506 - val_accuracy: 0.9944\n",
            "Epoch 15/20\n",
            "50/50 [==============================] - 6s 127ms/step - loss: 0.0222 - accuracy: 0.9941 - val_loss: 0.0511 - val_accuracy: 0.9944\n",
            "Epoch 16/20\n",
            "50/50 [==============================] - 6s 127ms/step - loss: 0.0288 - accuracy: 0.9929 - val_loss: 0.1309 - val_accuracy: 0.9831\n",
            "Epoch 17/20\n",
            "50/50 [==============================] - 6s 127ms/step - loss: 0.0200 - accuracy: 0.9924 - val_loss: 0.0363 - val_accuracy: 0.9944\n",
            "Epoch 18/20\n",
            "50/50 [==============================] - 6s 127ms/step - loss: 0.0125 - accuracy: 0.9949 - val_loss: 0.0822 - val_accuracy: 0.9944\n",
            "Epoch 19/20\n",
            "50/50 [==============================] - 6s 127ms/step - loss: 0.0131 - accuracy: 0.9944 - val_loss: 0.0945 - val_accuracy: 0.9887\n",
            "Epoch 20/20\n",
            "50/50 [==============================] - 6s 127ms/step - loss: 0.0159 - accuracy: 0.9971 - val_loss: 0.1613 - val_accuracy: 0.9831\n"
          ],
          "name": "stdout"
        }
      ]
    },
    {
      "cell_type": "code",
      "metadata": {
        "colab": {
          "base_uri": "https://localhost:8080/",
          "height": 279
        },
        "id": "hRFleO9LaOJr",
        "outputId": "1d755f6e-737f-4f5e-f9e9-155b8936b536"
      },
      "source": [
        "# Let's interpret the model performance by comparing the train and test loss\r\n",
        "plt.plot(history.history['loss'],'r',label='training loss')\r\n",
        "plt.plot(history.history['val_loss'],label='validation loss')\r\n",
        "plt.xlabel('# epochs')\r\n",
        "plt.ylabel('loss')\r\n",
        "plt.legend()\r\n",
        "plt.show()"
      ],
      "execution_count": null,
      "outputs": [
        {
          "output_type": "display_data",
          "data": {
            "image/png": "[encoded data removed]",
            "text/plain": [
              "<Figure size 432x288 with 1 Axes>"
            ]
          },
          "metadata": {
            "tags": [],
            "needs_background": "light"
          }
        }
      ]
    },
    {
      "cell_type": "code",
      "metadata": {
        "colab": {
          "base_uri": "https://localhost:8080/",
          "height": 279
        },
        "id": "c5SgNwCGbIIa",
        "outputId": "6d68ac5d-6a57-410d-8b41-4bba0bad1aaa"
      },
      "source": [
        "# Let's interpret the model performance by comparing the train and test accuracy\r\n",
        "plt.plot(history.history['accuracy'],'r',label='training accuracy')\r\n",
        "plt.plot(history.history['val_accuracy'],label='validation accuracy')\r\n",
        "plt.xlabel('# epochs')\r\n",
        "plt.ylabel('loss')\r\n",
        "plt.legend()\r\n",
        "plt.show()"
      ],
      "execution_count": null,
      "outputs": [
        {
          "output_type": "display_data",
          "data": {
            "image/png": "[encoded data removed]",
            "text/plain": [
              "<Figure size 432x288 with 1 Axes>"
            ]
          },
          "metadata": {
            "tags": [],
            "needs_background": "light"
          }
        }
      ]
    },
    {
      "cell_type": "markdown",
      "metadata": {
        "id": "09uz7c52bAlM"
      },
      "source": [
        "- For both train and test data losses are decreasing and accuracies are increasing.\r\n",
        "- So it is a good sign for the model.\r\n",
        "- There is no sign for Overfitting.\r\n",
        "- The model can be trained for more epochs for better accuracy.\r\n",
        "- By plot for losss and accuracy, we have similar indications. It is a good sign."
      ]
    },
    {
      "cell_type": "code",
      "metadata": {
        "colab": {
          "base_uri": "https://localhost:8080/"
        },
        "id": "XiUY9bW1cKIJ",
        "outputId": "164d8e5e-b0d7-4d1d-c2c6-639e4deeffe3"
      },
      "source": [
        "# Evaluate the model\r\n",
        "print(model.evaluate(test_data,test_target))"
      ],
      "execution_count": null,
      "outputs": [
        {
          "output_type": "stream",
          "text": [
            "7/7 [==============================] - 0s 45ms/step - loss: 0.0932 - accuracy: 0.9694\n",
            "[0.09315331280231476, 0.9693877696990967]\n"
          ],
          "name": "stdout"
        }
      ]
    },
    {
      "cell_type": "code",
      "metadata": {
        "id": "28V2_ODMD3tY"
      },
      "source": [
        "# Create requirements.txt file to save dependencies versions\r\n",
        "# !pip install -r requirements.txt\r\n",
        "# !pip3 freeze > requirements.txt"
      ],
      "execution_count": null,
      "outputs": []
    },
    {
      "cell_type": "code",
      "metadata": {
        "id": "iJ2I9nvye-qp"
      },
      "source": [
        ""
      ],
      "execution_count": null,
      "outputs": []
    }
  ]
}